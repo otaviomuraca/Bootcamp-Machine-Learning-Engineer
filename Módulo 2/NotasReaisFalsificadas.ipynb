{
 "cells": [
  {
   "cell_type": "markdown",
   "id": "b9327489",
   "metadata": {},
   "source": [
    "# Módulo 2: Modelos Preditivos e Séries Temporais\n",
    "\n",
    "por Otávio Muraca\n"
   ]
  },
  {
   "cell_type": "markdown",
   "id": "1e80c2e6",
   "metadata": {},
   "source": [
    "## Objetivo do Projeto"
   ]
  },
  {
   "cell_type": "markdown",
   "id": "4efe5a2c",
   "metadata": {},
   "source": [
    "Este dataset consiste em atributos contínuos (variance, skewness, curtosis e entropy) extraídos de imagens de cédulas reais e falsificadas através de uma etapa de processamento de sinais (transformação de Wavelet), além da indicação se o exemplo é de uma cédula genuína (class = 0) ou falsificada (class = 1)."
   ]
  },
  {
   "cell_type": "markdown",
   "id": "4a3f0684",
   "metadata": {},
   "source": [
    "## Importações"
   ]
  },
  {
   "cell_type": "code",
   "execution_count": 1,
   "id": "98c6c561",
   "metadata": {},
   "outputs": [],
   "source": [
    "#Importações\n",
    "import pandas as pd\n",
    "import numpy as np\n",
    "import seaborn as sns\n",
    "import matplotlib.pyplot as plt"
   ]
  },
  {
   "cell_type": "code",
   "execution_count": 24,
   "id": "09968caa",
   "metadata": {},
   "outputs": [],
   "source": [
    "#Removendo possíveis warningns\n",
    "import warnings\n",
    "import sys\n",
    "\n",
    "if not sys.warnoptions:\n",
    "    import warnings\n",
    "    warnings.simplefilter(\"ignore\")"
   ]
  },
  {
   "cell_type": "code",
   "execution_count": 3,
   "id": "d5159a25",
   "metadata": {},
   "outputs": [],
   "source": [
    "#Importando dataset\n",
    "url = \"https://pycourse.s3.amazonaws.com/banknote_authentication.txt\"\n",
    "dataset = pd.read_csv(url, header=None, names=['variance', 'skewness', 'curtosis', 'entropy', 'class'])"
   ]
  },
  {
   "cell_type": "markdown",
   "id": "12f4885b",
   "metadata": {},
   "source": [
    "## Análises Iniciais"
   ]
  },
  {
   "cell_type": "code",
   "execution_count": 4,
   "id": "eb0883ec",
   "metadata": {},
   "outputs": [
    {
     "data": {
      "text/html": [
       "<div>\n",
       "<style scoped>\n",
       "    .dataframe tbody tr th:only-of-type {\n",
       "        vertical-align: middle;\n",
       "    }\n",
       "\n",
       "    .dataframe tbody tr th {\n",
       "        vertical-align: top;\n",
       "    }\n",
       "\n",
       "    .dataframe thead th {\n",
       "        text-align: right;\n",
       "    }\n",
       "</style>\n",
       "<table border=\"1\" class=\"dataframe\">\n",
       "  <thead>\n",
       "    <tr style=\"text-align: right;\">\n",
       "      <th></th>\n",
       "      <th>variance</th>\n",
       "      <th>skewness</th>\n",
       "      <th>curtosis</th>\n",
       "      <th>entropy</th>\n",
       "      <th>class</th>\n",
       "    </tr>\n",
       "  </thead>\n",
       "  <tbody>\n",
       "    <tr>\n",
       "      <th>0</th>\n",
       "      <td>3.62160</td>\n",
       "      <td>8.6661</td>\n",
       "      <td>-2.8073</td>\n",
       "      <td>-0.44699</td>\n",
       "      <td>0</td>\n",
       "    </tr>\n",
       "    <tr>\n",
       "      <th>1</th>\n",
       "      <td>4.54590</td>\n",
       "      <td>8.1674</td>\n",
       "      <td>-2.4586</td>\n",
       "      <td>-1.46210</td>\n",
       "      <td>0</td>\n",
       "    </tr>\n",
       "    <tr>\n",
       "      <th>2</th>\n",
       "      <td>3.86600</td>\n",
       "      <td>-2.6383</td>\n",
       "      <td>1.9242</td>\n",
       "      <td>0.10645</td>\n",
       "      <td>0</td>\n",
       "    </tr>\n",
       "    <tr>\n",
       "      <th>3</th>\n",
       "      <td>3.45660</td>\n",
       "      <td>9.5228</td>\n",
       "      <td>-4.0112</td>\n",
       "      <td>-3.59440</td>\n",
       "      <td>0</td>\n",
       "    </tr>\n",
       "    <tr>\n",
       "      <th>4</th>\n",
       "      <td>0.32924</td>\n",
       "      <td>-4.4552</td>\n",
       "      <td>4.5718</td>\n",
       "      <td>-0.98880</td>\n",
       "      <td>0</td>\n",
       "    </tr>\n",
       "  </tbody>\n",
       "</table>\n",
       "</div>"
      ],
      "text/plain": [
       "   variance  skewness  curtosis  entropy  class\n",
       "0   3.62160    8.6661   -2.8073 -0.44699      0\n",
       "1   4.54590    8.1674   -2.4586 -1.46210      0\n",
       "2   3.86600   -2.6383    1.9242  0.10645      0\n",
       "3   3.45660    9.5228   -4.0112 -3.59440      0\n",
       "4   0.32924   -4.4552    4.5718 -0.98880      0"
      ]
     },
     "execution_count": 4,
     "metadata": {},
     "output_type": "execute_result"
    }
   ],
   "source": [
    "dataset.head(5)"
   ]
  },
  {
   "cell_type": "code",
   "execution_count": 5,
   "id": "1c01635a",
   "metadata": {},
   "outputs": [
    {
     "name": "stdout",
     "output_type": "stream",
     "text": [
      "<class 'pandas.core.frame.DataFrame'>\n",
      "RangeIndex: 1372 entries, 0 to 1371\n",
      "Data columns (total 5 columns):\n",
      " #   Column    Non-Null Count  Dtype  \n",
      "---  ------    --------------  -----  \n",
      " 0   variance  1372 non-null   float64\n",
      " 1   skewness  1372 non-null   float64\n",
      " 2   curtosis  1372 non-null   float64\n",
      " 3   entropy   1372 non-null   float64\n",
      " 4   class     1372 non-null   int64  \n",
      "dtypes: float64(4), int64(1)\n",
      "memory usage: 53.7 KB\n"
     ]
    }
   ],
   "source": [
    "#Verificando a presença de valore nulos\n",
    "dataset.info()"
   ]
  },
  {
   "cell_type": "code",
   "execution_count": 6,
   "id": "9aad7f69",
   "metadata": {},
   "outputs": [
    {
     "name": "stdout",
     "output_type": "stream",
     "text": [
      "O dataset possui 1372 amostras e 5 características.\n"
     ]
    }
   ],
   "source": [
    "#Qual o tamanho desse dataset (número de linhas, número de colunas)? \n",
    "print(f\"O dataset possui {dataset.shape[0]} amostras e {dataset.shape[1]} características.\")"
   ]
  },
  {
   "cell_type": "code",
   "execution_count": 7,
   "id": "887aae14",
   "metadata": {},
   "outputs": [
    {
     "name": "stdout",
     "output_type": "stream",
     "text": [
      "Range na coluna variance é de: 13.8669.\n",
      "Range na coluna skewness é de: 26.7247.\n",
      "Range na coluna curtosis é de: 23.2135.\n",
      "Range na coluna entropy é de: 10.9977.\n",
      "Range na coluna class é de: 1.\n"
     ]
    }
   ],
   "source": [
    "#Qual variável possui o maior range (diferença entre valor máximo e mínimo)? \n",
    "for i in dataset:\n",
    "  print(f\"Range na coluna {i} é de: {dataset[i].max() - dataset[i].min()}.\")"
   ]
  },
  {
   "cell_type": "code",
   "execution_count": 8,
   "id": "3d9091d0",
   "metadata": {},
   "outputs": [
    {
     "data": {
      "text/html": [
       "<div>\n",
       "<style scoped>\n",
       "    .dataframe tbody tr th:only-of-type {\n",
       "        vertical-align: middle;\n",
       "    }\n",
       "\n",
       "    .dataframe tbody tr th {\n",
       "        vertical-align: top;\n",
       "    }\n",
       "\n",
       "    .dataframe thead th {\n",
       "        text-align: right;\n",
       "    }\n",
       "</style>\n",
       "<table border=\"1\" class=\"dataframe\">\n",
       "  <thead>\n",
       "    <tr style=\"text-align: right;\">\n",
       "      <th></th>\n",
       "      <th>variance</th>\n",
       "      <th>skewness</th>\n",
       "      <th>curtosis</th>\n",
       "      <th>entropy</th>\n",
       "      <th>class</th>\n",
       "    </tr>\n",
       "  </thead>\n",
       "  <tbody>\n",
       "    <tr>\n",
       "      <th>count</th>\n",
       "      <td>1372.000000</td>\n",
       "      <td>1372.000000</td>\n",
       "      <td>1372.000000</td>\n",
       "      <td>1372.000000</td>\n",
       "      <td>1372.000000</td>\n",
       "    </tr>\n",
       "    <tr>\n",
       "      <th>mean</th>\n",
       "      <td>0.433735</td>\n",
       "      <td>1.922353</td>\n",
       "      <td>1.397627</td>\n",
       "      <td>-1.191657</td>\n",
       "      <td>0.444606</td>\n",
       "    </tr>\n",
       "    <tr>\n",
       "      <th>std</th>\n",
       "      <td>2.842763</td>\n",
       "      <td>5.869047</td>\n",
       "      <td>4.310030</td>\n",
       "      <td>2.101013</td>\n",
       "      <td>0.497103</td>\n",
       "    </tr>\n",
       "    <tr>\n",
       "      <th>min</th>\n",
       "      <td>-7.042100</td>\n",
       "      <td>-13.773100</td>\n",
       "      <td>-5.286100</td>\n",
       "      <td>-8.548200</td>\n",
       "      <td>0.000000</td>\n",
       "    </tr>\n",
       "    <tr>\n",
       "      <th>25%</th>\n",
       "      <td>-1.773000</td>\n",
       "      <td>-1.708200</td>\n",
       "      <td>-1.574975</td>\n",
       "      <td>-2.413450</td>\n",
       "      <td>0.000000</td>\n",
       "    </tr>\n",
       "    <tr>\n",
       "      <th>50%</th>\n",
       "      <td>0.496180</td>\n",
       "      <td>2.319650</td>\n",
       "      <td>0.616630</td>\n",
       "      <td>-0.586650</td>\n",
       "      <td>0.000000</td>\n",
       "    </tr>\n",
       "    <tr>\n",
       "      <th>75%</th>\n",
       "      <td>2.821475</td>\n",
       "      <td>6.814625</td>\n",
       "      <td>3.179250</td>\n",
       "      <td>0.394810</td>\n",
       "      <td>1.000000</td>\n",
       "    </tr>\n",
       "    <tr>\n",
       "      <th>max</th>\n",
       "      <td>6.824800</td>\n",
       "      <td>12.951600</td>\n",
       "      <td>17.927400</td>\n",
       "      <td>2.449500</td>\n",
       "      <td>1.000000</td>\n",
       "    </tr>\n",
       "  </tbody>\n",
       "</table>\n",
       "</div>"
      ],
      "text/plain": [
       "          variance     skewness     curtosis      entropy        class\n",
       "count  1372.000000  1372.000000  1372.000000  1372.000000  1372.000000\n",
       "mean      0.433735     1.922353     1.397627    -1.191657     0.444606\n",
       "std       2.842763     5.869047     4.310030     2.101013     0.497103\n",
       "min      -7.042100   -13.773100    -5.286100    -8.548200     0.000000\n",
       "25%      -1.773000    -1.708200    -1.574975    -2.413450     0.000000\n",
       "50%       0.496180     2.319650     0.616630    -0.586650     0.000000\n",
       "75%       2.821475     6.814625     3.179250     0.394810     1.000000\n",
       "max       6.824800    12.951600    17.927400     2.449500     1.000000"
      ]
     },
     "execution_count": 8,
     "metadata": {},
     "output_type": "execute_result"
    }
   ],
   "source": [
    "#Qual a média da coluna skewness? \n",
    "dataset.describe()"
   ]
  },
  {
   "cell_type": "code",
   "execution_count": 9,
   "id": "f6a61baa",
   "metadata": {},
   "outputs": [
    {
     "name": "stdout",
     "output_type": "stream",
     "text": [
      "No dataset, foram encontradas 44.46% de notas falsas.\n"
     ]
    }
   ],
   "source": [
    "#Qual a porcentagem de exemplos do dataset que são cédulas falsas (class=1)? \n",
    "\n",
    "#((VALOR FINAL - VALOR INICIAL) / VALOR INICIAL) * 100\n",
    "\n",
    "cedulasFalsas = round(abs((dataset['class'].value_counts()[0] - dataset.shape[0]) / dataset.shape[0]) * 100,2)\n",
    "print(f\"No dataset, foram encontradas {cedulasFalsas}% de notas falsas.\")"
   ]
  },
  {
   "cell_type": "markdown",
   "id": "f1ea5f1a",
   "metadata": {},
   "source": [
    "## Correlações"
   ]
  },
  {
   "cell_type": "code",
   "execution_count": 10,
   "id": "21ec971a",
   "metadata": {},
   "outputs": [
    {
     "data": {
      "text/plain": [
       "<AxesSubplot:>"
      ]
     },
     "execution_count": 10,
     "metadata": {},
     "output_type": "execute_result"
    },
    {
     "data": {
      "image/png": "[encoded data removed]",
      "text/plain": [
       "<Figure size 700x700 with 2 Axes>"
      ]
     },
     "metadata": {},
     "output_type": "display_data"
    }
   ],
   "source": [
    "fig, ax = plt.subplots(figsize=(7,7))\n",
    "sns.heatmap(data=dataset.corr(), annot=True, linewidths=2, cmap='BuPu', fmt='.6f' )"
   ]
  },
  {
   "cell_type": "markdown",
   "id": "5d07d797",
   "metadata": {},
   "source": [
    "## Escalas do dataset"
   ]
  },
  {
   "cell_type": "code",
   "execution_count": 11,
   "id": "df2be78d",
   "metadata": {},
   "outputs": [
    {
     "data": {
      "text/plain": [
       "<AxesSubplot:>"
      ]
     },
     "execution_count": 11,
     "metadata": {},
     "output_type": "execute_result"
    },
    {
     "data": {
      "image/png": "[encoded data removed]",
      "text/plain": [
       "<Figure size 700x400 with 1 Axes>"
      ]
     },
     "metadata": {},
     "output_type": "display_data"
    }
   ],
   "source": [
    "#Verificar a Escala\n",
    "fig, ax = plt.subplots(figsize=(7,4))\n",
    "sns.boxplot(data=dataset)"
   ]
  },
  {
   "cell_type": "markdown",
   "id": "1337f89e",
   "metadata": {},
   "source": [
    "Analisamos aqui, que os dados possuem uma estrutura adequada e não necessita ser padronizados. "
   ]
  },
  {
   "cell_type": "markdown",
   "id": "feb644e3",
   "metadata": {},
   "source": [
    "## Divisão dos dados de TESTE/TREINAMENTO"
   ]
  },
  {
   "cell_type": "code",
   "execution_count": 14,
   "id": "67e0e840",
   "metadata": {},
   "outputs": [],
   "source": [
    "x = dataset.iloc[:,0:-1].values #Selecionando as colunas de características\n",
    "y = dataset.iloc[:,4].values #Selecionando a coluna resposta"
   ]
  },
  {
   "cell_type": "code",
   "execution_count": 15,
   "id": "3f7b2d85",
   "metadata": {},
   "outputs": [
    {
     "data": {
      "text/plain": [
       "array([[  3.6216 ,   8.6661 ,  -2.8073 ,  -0.44699],\n",
       "       [  4.5459 ,   8.1674 ,  -2.4586 ,  -1.4621 ],\n",
       "       [  3.866  ,  -2.6383 ,   1.9242 ,   0.10645],\n",
       "       ...,\n",
       "       [ -3.7503 , -13.4586 ,  17.5932 ,  -2.7771 ],\n",
       "       [ -3.5637 ,  -8.3827 ,  12.393  ,  -1.2823 ],\n",
       "       [ -2.5419 ,  -0.65804,   2.6842 ,   1.1952 ]])"
      ]
     },
     "execution_count": 15,
     "metadata": {},
     "output_type": "execute_result"
    }
   ],
   "source": [
    "x"
   ]
  },
  {
   "cell_type": "code",
   "execution_count": 16,
   "id": "7cc1890c",
   "metadata": {},
   "outputs": [
    {
     "data": {
      "text/plain": [
       "array([0, 0, 0, ..., 1, 1, 1])"
      ]
     },
     "execution_count": 16,
     "metadata": {},
     "output_type": "execute_result"
    }
   ],
   "source": [
    "y"
   ]
  },
  {
   "cell_type": "code",
   "execution_count": 17,
   "id": "3670f7cb",
   "metadata": {},
   "outputs": [],
   "source": [
    "#Dividindo as amostras entre TREINO/TEST\n",
    "from sklearn.model_selection import train_test_split\n",
    "X_train, X_test, y_train, y_test = train_test_split(x,y, test_size = 0.3, random_state = 1)"
   ]
  },
  {
   "cell_type": "markdown",
   "id": "5336e109",
   "metadata": {},
   "source": [
    "## KNN"
   ]
  },
  {
   "cell_type": "code",
   "execution_count": 25,
   "id": "6a0fdbac",
   "metadata": {},
   "outputs": [
    {
     "name": "stdout",
     "output_type": "stream",
     "text": [
      "A acurácia do algoritmo KNN foi de 99.75728%.\n"
     ]
    }
   ],
   "source": [
    "#Método KNN\n",
    "from sklearn.metrics import classification_report, confusion_matrix, precision_score, accuracy_score\n",
    "from sklearn.utils.multiclass import check_classification_targets\n",
    "from sklearn.neighbors import KNeighborsClassifier\n",
    "\n",
    "classifierKNN = KNeighborsClassifier(n_neighbors=5)\n",
    "classifierKNN.fit(X_train, y_train)\n",
    "\n",
    "print(f'A acurácia do algoritmo KNN foi de {classifierKNN.score(X_test, y_test):.5%}.')"
   ]
  },
  {
   "cell_type": "markdown",
   "id": "cdb70ae1",
   "metadata": {},
   "source": [
    "## Árvore de Decisão"
   ]
  },
  {
   "cell_type": "code",
   "execution_count": 26,
   "id": "521ed254",
   "metadata": {},
   "outputs": [
    {
     "data": {
      "image/png": "[encoded data removed]",
      "text/plain": [
       "<Figure size 200x200 with 1 Axes>"
      ]
     },
     "metadata": {},
     "output_type": "display_data"
    }
   ],
   "source": [
    "#Plotando a Árvore de Decisão\n",
    "\n",
    "from mlxtend.plotting import plot_confusion_matrix\n",
    "y_pred = classifierKNN.predict(X_test)\n",
    "matrixConfusao = confusion_matrix(y_test, y_pred)\n",
    "fig, ax = plot_confusion_matrix(conf_mat=matrixConfusao, figsize=(2,2))\n",
    "plt.show()"
   ]
  },
  {
   "cell_type": "code",
   "execution_count": 20,
   "id": "659f093c",
   "metadata": {},
   "outputs": [
    {
     "name": "stdout",
     "output_type": "stream",
     "text": [
      "A acurácia do algoritmo Árvore de Decisão foi de 98.78641%.\n"
     ]
    }
   ],
   "source": [
    "#Método Árvore de Decisão\n",
    "from sklearn.tree import DecisionTreeClassifier, export_graphviz\n",
    "\n",
    "\n",
    "classifierArvoreDecisao = DecisionTreeClassifier(random_state=1)\n",
    "classifierArvoreDecisao.fit(X_train, y_train)\n",
    "\n",
    "\n",
    "print(f'A acurácia do algoritmo Árvore de Decisão foi de {classifierArvoreDecisao.score(X_test, y_test):.5%}.')"
   ]
  },
  {
   "cell_type": "markdown",
   "id": "bc9e9b32",
   "metadata": {},
   "source": [
    "## Algoritmo Floresta Aleatória (Random Forest)"
   ]
  },
  {
   "cell_type": "code",
   "execution_count": 27,
   "id": "23240631",
   "metadata": {},
   "outputs": [
    {
     "name": "stdout",
     "output_type": "stream",
     "text": [
      "A acurácia do algoritmo Floresta Aleatória foi de 99.51456%.\n"
     ]
    }
   ],
   "source": [
    "#Método Algoritmo Floresta Aleatória (Random Forest)\n",
    "from sklearn.ensemble import RandomForestClassifier\n",
    "\n",
    "classifierRandomForest = RandomForestClassifier(max_depth=8, random_state=1)\n",
    "classifierRandomForest.fit(X_train, y_train)\n",
    "\n",
    "print(f'A acurácia do algoritmo Floresta Aleatória foi de {classifierRandomForest.score(X_test, y_test):.5%}.')"
   ]
  },
  {
   "cell_type": "markdown",
   "id": "32b1c3f0",
   "metadata": {},
   "source": [
    "## SVM"
   ]
  },
  {
   "cell_type": "code",
   "execution_count": 28,
   "id": "3aef0dc0",
   "metadata": {},
   "outputs": [
    {
     "name": "stdout",
     "output_type": "stream",
     "text": [
      "A acurácia do algoritmo SVM foi de 100.00%.\n"
     ]
    }
   ],
   "source": [
    "#Método Algoritmo Floresta Aleatória (Random Forest)\n",
    "from sklearn.svm import SVC\n",
    "\n",
    "classifierSVM = SVC(gamma = 'auto', kernel = 'rbf', random_state = 1)\n",
    "classifierSVM.fit(X_train, y_train)\n",
    "\n",
    "print(f'A acurácia do algoritmo SVM foi de {classifierSVM.score(X_test, y_test):.2%}.')"
   ]
  },
  {
   "cell_type": "markdown",
   "id": "094f11e9",
   "metadata": {},
   "source": [
    "## MLP"
   ]
  },
  {
   "cell_type": "code",
   "execution_count": 29,
   "id": "1ebc4601",
   "metadata": {},
   "outputs": [
    {
     "name": "stdout",
     "output_type": "stream",
     "text": [
      "A acurácia do algoritmo MLP foi de 100.00%.\n"
     ]
    }
   ],
   "source": [
    "#Método Algoritmo MLP\n",
    "from sklearn.neural_network import MLPClassifier\n",
    "\n",
    "classifierMLP= MLPClassifier(hidden_layer_sizes=(2,), solver='lbfgs', random_state=1) \n",
    "classifierMLP.fit(X_train, y_train)\n",
    "\n",
    "print(f'A acurácia do algoritmo MLP foi de {classifierMLP.score(X_test, y_test):.2%}.')"
   ]
  },
  {
   "cell_type": "markdown",
   "id": "0f19be97",
   "metadata": {},
   "source": [
    "## Feature Importances"
   ]
  },
  {
   "cell_type": "code",
   "execution_count": 30,
   "id": "d70961a2",
   "metadata": {},
   "outputs": [
    {
     "data": {
      "text/plain": [
       "Index(['variance', 'skewness', 'curtosis', 'entropy', 'class'], dtype='object')"
      ]
     },
     "execution_count": 30,
     "metadata": {},
     "output_type": "execute_result"
    }
   ],
   "source": [
    "dataset.columns"
   ]
  },
  {
   "cell_type": "code",
   "execution_count": 31,
   "id": "1b04cb85",
   "metadata": {},
   "outputs": [
    {
     "data": {
      "text/plain": [
       "variance    0.560667\n",
       "skewness    0.240586\n",
       "curtosis    0.140228\n",
       "entropy     0.058519\n",
       "dtype: float64"
      ]
     },
     "execution_count": 31,
     "metadata": {},
     "output_type": "execute_result"
    }
   ],
   "source": [
    "#Analisando o valor da importância relativa das features do Random Forest (atributo feature_importances_)\n",
    "#qual feature melhor contribuiu para a predição de class? \n",
    "\n",
    "featureImportances = classifierRandomForest.feature_importances_\n",
    "featureLabels = ['variance','skewness','curtosis','entropy']\n",
    "\n",
    "featureImportances = pd.Series(featureImportances, index=featureLabels)\n",
    "\n",
    "featureImportances"
   ]
  },
  {
   "cell_type": "markdown",
   "id": "6a0cf9c5",
   "metadata": {},
   "source": [
    "### - fim -"
   ]
  }
 ],
 "metadata": {
  "kernelspec": {
   "display_name": "Python 3 (ipykernel)",
   "language": "python",
   "name": "python3"
  },
  "language_info": {
   "codemirror_mode": {
    "name": "ipython",
    "version": 3
   },
   "file_extension": ".py",
   "mimetype": "text/x-python",
   "name": "python",
   "nbconvert_exporter": "python",
   "pygments_lexer": "ipython3",
   "version": "3.9.13"
  }
 },
 "nbformat": 4,
 "nbformat_minor": 5
}
